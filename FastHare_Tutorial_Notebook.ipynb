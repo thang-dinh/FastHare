{
  "cells": [
    {
      "cell_type": "markdown",
      "metadata": {
        "id": "_cYpZPyr9d0i"
      },
      "source": [
        "# Tutorial for FastHare module\n",
        "By Thang N. Dinh (tndinh@vcu.edu)\n",
        "\n",
        "The module ipmlement the FastHare algorithm in the paper\n",
        "`FastHare: Fast Hamiltonian Reduction for Large-scale Quantum Annealing`, IEEE Conf. on Quantum Computer and Enginnering, 2022[PDF](https://arxiv.org/abs/2205.05004)"
      ]
    },
    {
      "cell_type": "code",
      "execution_count": 2,
      "metadata": {
        "colab": {
          "base_uri": "https://localhost:8080/"
        },
        "collapsed": true,
        "id": "yLS4owM29Ccf",
        "outputId": "03d5f4f6-f302-406d-8039-c1ecf9218911"
      },
      "outputs": [
        {
          "name": "stdout",
          "output_type": "stream",
          "text": [
            "Requirement already satisfied: fasthare in /usr/local/lib/python3.10/dist-packages (1.0.3)\n",
            "Requirement already satisfied: FastHareComposite in /usr/local/lib/python3.10/dist-packages (0.3.4)\n",
            "Requirement already satisfied: dimod in /usr/local/lib/python3.10/dist-packages (from FastHareComposite) (0.12.17)\n",
            "Requirement already satisfied: networkx in /usr/local/lib/python3.10/dist-packages (from FastHareComposite) (3.3)\n",
            "Requirement already satisfied: numpy>=1.17.3 in /usr/local/lib/python3.10/dist-packages (from dimod->FastHareComposite) (1.26.4)\n",
            "Collecting dwave-neal\n",
            "  Downloading dwave_neal-0.6.0-py3-none-any.whl.metadata (3.0 kB)\n",
            "Collecting dwave-samplers<2.0.0,>=1.0.0 (from dwave-neal)\n",
            "  Downloading dwave_samplers-1.3.0-cp310-cp310-manylinux_2_17_x86_64.manylinux2014_x86_64.whl.metadata (9.8 kB)\n",
            "Requirement already satisfied: numpy<3.0.0,>=1.19.0 in /usr/local/lib/python3.10/dist-packages (from dwave-samplers<2.0.0,>=1.0.0->dwave-neal) (1.26.4)\n",
            "Requirement already satisfied: dimod<0.13.0,>=0.12.13 in /usr/local/lib/python3.10/dist-packages (from dwave-samplers<2.0.0,>=1.0.0->dwave-neal) (0.12.17)\n",
            "Requirement already satisfied: networkx>=3.0 in /usr/local/lib/python3.10/dist-packages (from dwave-samplers<2.0.0,>=1.0.0->dwave-neal) (3.3)\n",
            "Downloading dwave_neal-0.6.0-py3-none-any.whl (8.7 kB)\n",
            "Downloading dwave_samplers-1.3.0-cp310-cp310-manylinux_2_17_x86_64.manylinux2014_x86_64.whl (6.7 MB)\n",
            "\u001b[2K   \u001b[90m━━━━━━━━━━━━━━━━━━━━━━━━━━━━━━━━━━━━━━━━\u001b[0m \u001b[32m6.7/6.7 MB\u001b[0m \u001b[31m42.9 MB/s\u001b[0m eta \u001b[36m0:00:00\u001b[0m\n",
            "\u001b[?25hInstalling collected packages: dwave-samplers, dwave-neal\n",
            "Successfully installed dwave-neal-0.6.0 dwave-samplers-1.3.0\n"
          ]
        }
      ],
      "source": [
        "# Install required libraries\n",
        "%pip install fasthare FastHareComposite \n",
        "# Install neal library for simulated annealing\n",
        "%pip install dwave-neal\n"
      ]
    },
    {
      "cell_type": "code",
      "execution_count": 3,
      "metadata": {
        "id": "bRAKvwygF5lY"
      },
      "outputs": [],
      "source": [
        "import random\n",
        "import neal\n",
        "import dimod\n",
        "import networkx as nx\n",
        "from FastHareComposite import FastHareComposite"
      ]
    },
    {
      "cell_type": "code",
      "execution_count": null,
      "metadata": {
        "colab": {
          "base_uri": "https://localhost:8080/"
        },
        "id": "Ovqavf0cHKHi",
        "outputId": "5ee0a271-9087-4980-ec8d-9c49e0d4e348"
      },
      "outputs": [
        {
          "name": "stdout",
          "output_type": "stream",
          "text": [
            "Generating random Ising\n",
            "h= {0: 1, 1: -2, 2: -2, 3: -4, 4: 0, 5: 3, 6: -3, 7: -2} \n",
            "J= {(0, 4): -4, (0, 5): -3, (0, 7): 1, (1, 2): -3, (1, 3): 3, (1, 4): -1, (1, 5): 2, (2, 3): -2, (2, 4): 2, (2, 5): 1, (2, 6): 3, (2, 7): -2, (3, 6): -4, (3, 7): 1, (4, 5): -2, (4, 6): 2, (6, 7): -2}\n"
          ]
        }
      ],
      "source": [
        "def generate_random_ising(n, d, emin, emax):\n",
        "  \"\"\"Generate random Ising Hamiltonian\n",
        "  \"\"\"\n",
        "  p = d*1.0/(n - 1)\n",
        "  G = nx.fast_gnp_random_graph(n, p, seed = 0, directed = False)\n",
        "\n",
        "  # Random generator to choose random integer between emin and emax\n",
        "  rndw = lambda : random.randrange(emin, emax + 1)\n",
        "  h = { u: rndw() for u in range(n)}\n",
        "  J = {(u, v): rndw() for u, v in G.edges()}\n",
        "  return h, J\n",
        "\n",
        "print(\"Generating random Ising\")\n",
        "h, J = generate_random_ising(4, 2, -4, 4)\n",
        "print(\"h=\", h,\"\\nJ=\", J)"
      ]
    },
    {
      "cell_type": "code",
      "execution_count": 8,
      "metadata": {
        "colab": {
          "base_uri": "https://localhost:8080/"
        },
        "id": "gtXLU7dpQUJ9",
        "outputId": "97552329-bea5-4212-f2a2-f1eb02fc78fa"
      },
      "outputs": [
        {
          "name": "stdout",
          "output_type": "stream",
          "text": [
            "   0  1  2  3  4  5  6  7 energy num_oc.\n",
            "0 -1 +1 +1 +1 -1 -1 +1 +1  -39.0     100\n",
            "['SPIN', 1 rows, 100 samples, 8 variables]\n",
            "Best solution has a minimum energy  -39.0\n"
          ]
        }
      ],
      "source": [
        "# Solve the Ising using simulated annealing (SA)\n",
        "sa = neal.SimulatedAnnealingSampler()\n",
        "sample_set_sa = sa.sample_ising(h, J, num_reads = 100)\n",
        "print(sample_set_sa.aggregate() )\n",
        "print(\"Best solution has a minimum energy \", sample_set_sa.first.energy)\n"
      ]
    },
    {
      "cell_type": "code",
      "execution_count": 9,
      "metadata": {
        "colab": {
          "base_uri": "https://localhost:8080/"
        },
        "id": "gRWYOoZTjG4n",
        "outputId": "d835f91b-b119-4094-f1d5-6dcc2c6f9ee3"
      },
      "outputs": [
        {
          "name": "stdout",
          "output_type": "stream",
          "text": [
            "FastHare: Reduced 3/8 variables (37.50% reduction).\n",
            "   0  1  2  3  4  5  6  7 energy num_oc.\n",
            "0 -1 +1 +1 +1 -1 -1 +1 +1  -39.0     100\n",
            "['SPIN', 1 rows, 100 samples, 8 variables]\n",
            "Best solution has a minimum energy  -39.0\n"
          ]
        }
      ],
      "source": [
        "# Use FastHare composite to preprocess instance before sovling\n",
        "# Solve the Ising using simulated annealing (SA)\n",
        "fh_sa = FastHareComposite(sa)\n",
        "sample_set_fh = fh_sa.sample_ising(h, J, num_reads = 100)\n",
        "print(sample_set_fh.aggregate())\n",
        "print(\"Best solution has a minimum energy \", sample_set_fh.first.energy)\n"
      ]
    }
  ],
  "metadata": {
    "colab": {
      "provenance": []
    },
    "kernelspec": {
      "display_name": "Python 3",
      "name": "python3"
    },
    "language_info": {
      "name": "python"
    }
  },
  "nbformat": 4,
  "nbformat_minor": 0
}
